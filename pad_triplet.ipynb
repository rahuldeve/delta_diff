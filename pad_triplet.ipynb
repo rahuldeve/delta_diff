{
 "cells": [
  {
   "cell_type": "code",
   "execution_count": 1,
   "metadata": {},
   "outputs": [
    {
     "name": "stderr",
     "output_type": "stream",
     "text": [
      "Failed to detect the name of this notebook, you can set it manually with the WANDB_NOTEBOOK_NAME environment variable to enable code saving.\n",
      "\u001b[34m\u001b[1mwandb\u001b[0m: Currently logged in as: \u001b[33mrahul-e-dev\u001b[0m. Use \u001b[1m`wandb login --relogin`\u001b[0m to force relogin\n"
     ]
    },
    {
     "data": {
      "text/html": [
       "wandb version 0.16.4 is available!  To upgrade, please run:\n",
       " $ pip install wandb --upgrade"
      ],
      "text/plain": [
       "<IPython.core.display.HTML object>"
      ]
     },
     "metadata": {},
     "output_type": "display_data"
    },
    {
     "data": {
      "text/html": [
       "Tracking run with wandb version 0.16.3"
      ],
      "text/plain": [
       "<IPython.core.display.HTML object>"
      ]
     },
     "metadata": {},
     "output_type": "display_data"
    },
    {
     "data": {
      "text/html": [
       "Run data is saved locally in <code>c:\\Users\\rahul\\Documents\\biomed\\delta_diff\\wandb\\run-20240312_143559-jnvk18r8</code>"
      ],
      "text/plain": [
       "<IPython.core.display.HTML object>"
      ]
     },
     "metadata": {},
     "output_type": "display_data"
    },
    {
     "data": {
      "text/html": [
       "Syncing run <strong><a href='https://wandb.ai/rahul-e-dev/delta/runs/jnvk18r8' target=\"_blank\">init_v8</a></strong> to <a href='https://wandb.ai/rahul-e-dev/delta' target=\"_blank\">Weights & Biases</a> (<a href='https://wandb.me/run' target=\"_blank\">docs</a>)<br/>"
      ],
      "text/plain": [
       "<IPython.core.display.HTML object>"
      ]
     },
     "metadata": {},
     "output_type": "display_data"
    },
    {
     "data": {
      "text/html": [
       " View project at <a href='https://wandb.ai/rahul-e-dev/delta' target=\"_blank\">https://wandb.ai/rahul-e-dev/delta</a>"
      ],
      "text/plain": [
       "<IPython.core.display.HTML object>"
      ]
     },
     "metadata": {},
     "output_type": "display_data"
    },
    {
     "data": {
      "text/html": [
       " View run at <a href='https://wandb.ai/rahul-e-dev/delta/runs/jnvk18r8' target=\"_blank\">https://wandb.ai/rahul-e-dev/delta/runs/jnvk18r8</a>"
      ],
      "text/plain": [
       "<IPython.core.display.HTML object>"
      ]
     },
     "metadata": {},
     "output_type": "display_data"
    },
    {
     "data": {
      "text/html": [
       "<button onClick=\"this.nextSibling.style.display='block';this.style.display='none';\">Display W&B run</button><iframe src='https://wandb.ai/rahul-e-dev/delta/runs/jnvk18r8?jupyter=true' style='border:none;width:100%;height:420px;display:none;'></iframe>"
      ],
      "text/plain": [
       "<wandb.sdk.wandb_run.Run at 0x213e1bbac80>"
      ]
     },
     "execution_count": 1,
     "metadata": {},
     "output_type": "execute_result"
    }
   ],
   "source": [
    "from functools import partial\n",
    "\n",
    "import torch\n",
    "\n",
    "from torch.optim import AdamW\n",
    "from torch.utils.data import DataLoader\n",
    "from transformers import (\n",
    "    AutoModel,\n",
    "    AutoTokenizer,\n",
    "    DataCollatorWithPadding,\n",
    "    get_constant_schedule_with_warmup,\n",
    "    get_cosine_schedule_with_warmup,\n",
    ")\n",
    "\n",
    "from data import (\n",
    "    ContrastiveTripletDS,\n",
    "    load_kasa_regression,\n",
    "    standardize_df,\n",
    "    tokenize,\n",
    "    batch_of_dict_collate,\n",
    ")\n",
    "from model import TripletDeltaModel\n",
    "from collections import defaultdict\n",
    "from tqdm.auto import tqdm\n",
    "\n",
    "import wandb\n",
    "\n",
    "wandb.init(project=\"delta\", name=\"init_v8\")"
   ]
  },
  {
   "cell_type": "code",
   "execution_count": 2,
   "metadata": {},
   "outputs": [],
   "source": [
    "def train_step(model, batch, optimizer, scheduler):\n",
    "    optimizer.zero_grad()\n",
    "    model.train()\n",
    "    device = next(model.parameters()).device\n",
    "\n",
    "    batch = {k: v.to(device) for k, v in batch.items()}\n",
    "    losses = model(batch)\n",
    "    losses[\"loss\"].backward()\n",
    "\n",
    "    # torch.nn.utils.clip_grad_norm_(model.parameters(), 1.0)\n",
    "    optimizer.step()\n",
    "    scheduler.step()\n",
    "    return losses\n",
    "\n",
    "\n",
    "@torch.no_grad()\n",
    "def val_step(model, batch):\n",
    "    model.eval()\n",
    "    device = next(model.parameters()).device\n",
    "    batch = {k: v.to(device) for k, v in batch.items()}\n",
    "    losses = model(batch)\n",
    "    return losses\n",
    "\n",
    "\n",
    "@torch.no_grad()\n",
    "def embed_split(ds_split, model, padding_collator):\n",
    "    embeddings = []\n",
    "    device = next(model.parameters()).device\n",
    "    for batch in DataLoader(\n",
    "        ds_split, shuffle=False, batch_size=1024, collate_fn=padding_collator\n",
    "    ):\n",
    "        batch = {k: v.to(device) for k, v in batch.items()}\n",
    "        batch_embeddings = model.embed_batch(batch)\n",
    "        embeddings.append(batch_embeddings.cpu())\n",
    "\n",
    "    embeddings = torch.cat(embeddings, dim=0)\n",
    "    return embeddings.to(device)\n",
    "\n",
    "\n",
    "@torch.no_grad()\n",
    "def get_actual_diffs_for_split(ds_split):\n",
    "    val_scores = torch.tensor(ds_split[\"score\"])\n",
    "    actual_diffs = val_scores.unsqueeze(-1) - val_scores.unsqueeze(0)\n",
    "    return actual_diffs.cpu().numpy()\n",
    "\n",
    "\n",
    "@torch.no_grad()\n",
    "def get_predicted_diffs_for_split(ds_split, model, padding_collator):\n",
    "    embeddings = embed_split(ds_split, model, padding_collator)\n",
    "\n",
    "    N = embeddings.shape[0]\n",
    "    pred_delta = torch.zeros((N, N))\n",
    "    for row_idx in tqdm(range(N)):\n",
    "        pred_delta_row = model.get_delta(\n",
    "            from_embedding=embeddings[[row_idx]].expand_as(embeddings),\n",
    "            to_embedding=embeddings,\n",
    "        )\n",
    "        pred_delta[row_idx, :] = pred_delta_row.squeeze()\n",
    "\n",
    "    return pred_delta"
   ]
  },
  {
   "cell_type": "code",
   "execution_count": 3,
   "metadata": {},
   "outputs": [],
   "source": [
    "def update_dataloaders(train_split, val_split, model, padding_collator):\n",
    "    train_ds = ContrastiveTripletDS(\n",
    "        train_split,\n",
    "        get_actual_diffs_for_split(train_split),\n",
    "        get_predicted_diffs_for_split(train_split, model, padding_collator),\n",
    "    )\n",
    "\n",
    "    val_ds = ContrastiveTripletDS(\n",
    "        val_split,\n",
    "        get_actual_diffs_for_split(val_split),\n",
    "        get_predicted_diffs_for_split(val_split, model, padding_collator),\n",
    "    )\n",
    "\n",
    "    train_dl = DataLoader(\n",
    "        train_ds,\n",
    "        batch_size=512,\n",
    "        shuffle=True,\n",
    "        collate_fn=partial(batch_of_dict_collate, base_collator=padding_collator),\n",
    "        # num_workers=4\n",
    "    )\n",
    "\n",
    "    val_dl = DataLoader(\n",
    "        val_ds,\n",
    "        batch_size=512,\n",
    "        shuffle=False,\n",
    "        collate_fn=partial(batch_of_dict_collate, base_collator=padding_collator),\n",
    "        # num_workers=4\n",
    "    )\n",
    "\n",
    "    return train_dl, val_dl"
   ]
  },
  {
   "cell_type": "code",
   "execution_count": 4,
   "metadata": {},
   "outputs": [],
   "source": [
    "def step_epoch(e, model, train_dl, val_dl, optimizer, scheduler):\n",
    "    train_loss_accumulator = defaultdict(float)\n",
    "    for batch in tqdm(train_dl, total=len(train_dl)):\n",
    "        train_losses = train_step(model, batch, optimizer, scheduler)\n",
    "        for k, v in train_losses.items():\n",
    "            train_loss_accumulator[k] += v.item()\n",
    "\n",
    "    train_loss_accumulator = {\n",
    "        f\"train/{k}\": round(v / len(train_dl), 4)\n",
    "        for k, v in train_loss_accumulator.items()\n",
    "    }\n",
    "\n",
    "    wandb.log(dict(train_loss_accumulator) | {\"train/epoch\": e})\n",
    "\n",
    "    if e % 1 == 0:\n",
    "        val_loss_accumulator = defaultdict(float)\n",
    "        for batch in val_dl:\n",
    "            val_losses = val_step(model, batch)\n",
    "            for k, v in val_losses.items():\n",
    "                val_loss_accumulator[k] += v.item()\n",
    "\n",
    "        val_loss_accumulator = {\n",
    "            f\"val/{k}\": round(v / len(val_dl), 4)\n",
    "            for k, v in val_loss_accumulator.items()\n",
    "        }\n",
    "\n",
    "        wandb.log(dict(val_loss_accumulator) | {\"val/epoch\": e})"
   ]
  },
  {
   "cell_type": "code",
   "execution_count": 5,
   "metadata": {},
   "outputs": [
    {
     "name": "stderr",
     "output_type": "stream",
     "text": [
      "c:\\Users\\rahul\\mambaforge\\envs\\bio\\lib\\site-packages\\astartes\\samplers\\extrapolation\\scaffold.py:44: NoMatchingScaffold: No matching scaffold was found for the 3 molecules corresponding to indices {23234, 36709, 11879}\n",
      "  warnings.warn(\n"
     ]
    },
    {
     "data": {
      "application/vnd.jupyter.widget-view+json": {
       "model_id": "7dbe144df9bc4462855b0a4a5b1bf6c1",
       "version_major": 2,
       "version_minor": 0
      },
      "text/plain": [
       "Map (num_proc=8):   0%|          | 0/39777 [00:00<?, ? examples/s]"
      ]
     },
     "metadata": {},
     "output_type": "display_data"
    },
    {
     "data": {
      "application/vnd.jupyter.widget-view+json": {
       "model_id": "4b337c838bcf469d9c6deeeb7a295a29",
       "version_major": 2,
       "version_minor": 0
      },
      "text/plain": [
       "Map (num_proc=8):   0%|          | 0/4972 [00:00<?, ? examples/s]"
      ]
     },
     "metadata": {},
     "output_type": "display_data"
    },
    {
     "data": {
      "application/vnd.jupyter.widget-view+json": {
       "model_id": "5c292060e1874862a1ad214573ee8647",
       "version_major": 2,
       "version_minor": 0
      },
      "text/plain": [
       "Map (num_proc=8):   0%|          | 0/4972 [00:00<?, ? examples/s]"
      ]
     },
     "metadata": {},
     "output_type": "display_data"
    }
   ],
   "source": [
    "ds = load_kasa_regression()\n",
    "tokenizer = AutoTokenizer.from_pretrained(\"DeepChem/ChemBERTa-77M-MTR\")\n",
    "tok_func = partial(tokenize, tokenizer=tokenizer)\n",
    "ds = ds.map(tok_func, num_proc=8).remove_columns([\"smiles\"])\n",
    "\n",
    "tokenizer.pad_token = tokenizer.eos_token\n",
    "padding_collator = DataCollatorWithPadding(tokenizer)"
   ]
  },
  {
   "cell_type": "code",
   "execution_count": 6,
   "metadata": {},
   "outputs": [
    {
     "name": "stderr",
     "output_type": "stream",
     "text": [
      "Some weights of the model checkpoint at DeepChem/ChemBERTa-77M-MTR were not used when initializing RobertaModel: ['regression.out_proj.weight', 'regression.out_proj.bias', 'norm_std', 'regression.dense.weight', 'norm_mean', 'regression.dense.bias']\n",
      "- This IS expected if you are initializing RobertaModel from the checkpoint of a model trained on another task or with another architecture (e.g. initializing a BertForSequenceClassification model from a BertForPreTraining model).\n",
      "- This IS NOT expected if you are initializing RobertaModel from the checkpoint of a model that you expect to be exactly identical (initializing a BertForSequenceClassification model from a BertForSequenceClassification model).\n",
      "Some weights of RobertaModel were not initialized from the model checkpoint at DeepChem/ChemBERTa-77M-MTR and are newly initialized: ['roberta.pooler.dense.weight', 'roberta.pooler.dense.bias']\n",
      "You should probably TRAIN this model on a down-stream task to be able to use it for predictions and inference.\n",
      "You're using a RobertaTokenizerFast tokenizer. Please note that with a fast tokenizer, using the `__call__` method is faster than using a method to encode the text followed by a call to the `pad` method to get a padded encoding.\n"
     ]
    },
    {
     "data": {
      "application/vnd.jupyter.widget-view+json": {
       "model_id": "bd678ceba7a842c79e564f4fbcb08b6d",
       "version_major": 2,
       "version_minor": 0
      },
      "text/plain": [
       "  0%|          | 0/4972 [00:00<?, ?it/s]"
      ]
     },
     "metadata": {},
     "output_type": "display_data"
    },
    {
     "data": {
      "application/vnd.jupyter.widget-view+json": {
       "model_id": "4e863cfc81564dc6b1349ce6acb1c111",
       "version_major": 2,
       "version_minor": 0
      },
      "text/plain": [
       "  0%|          | 0/4972 [00:00<?, ?it/s]"
      ]
     },
     "metadata": {},
     "output_type": "display_data"
    },
    {
     "data": {
      "text/plain": [
       "[]"
      ]
     },
     "execution_count": 6,
     "metadata": {},
     "output_type": "execute_result"
    }
   ],
   "source": [
    "model = TripletDeltaModel(AutoModel.from_pretrained(\"DeepChem/ChemBERTa-77M-MTR\")).cuda()\n",
    "train_dl, val_dl = update_dataloaders(ds[\"val\"], ds[\"test\"], model, padding_collator)\n",
    "\n",
    "optimizer = AdamW(model.parameters(), lr=2e-4)\n",
    "n_epochs = 40\n",
    "n_steps = len(train_dl) * n_epochs\n",
    "warmup_ratio = 0.1\n",
    "scheduler = get_cosine_schedule_with_warmup(\n",
    "    optimizer, n_steps * warmup_ratio, n_steps * (1 - warmup_ratio)\n",
    ")\n",
    "# scheduler = get_constant_schedule_with_warmup(optimizer, n_steps*warmup_ratio)\n",
    "\n",
    "wandb.watch(model, log=\"gradients\", log_freq=10)"
   ]
  },
  {
   "cell_type": "code",
   "execution_count": 7,
   "metadata": {},
   "outputs": [
    {
     "data": {
      "application/vnd.jupyter.widget-view+json": {
       "model_id": "e24a36ba9af94d4ebe4db5db0bf00ebf",
       "version_major": 2,
       "version_minor": 0
      },
      "text/plain": [
       "  0%|          | 0/41 [00:00<?, ?it/s]"
      ]
     },
     "metadata": {},
     "output_type": "display_data"
    },
    {
     "data": {
      "application/vnd.jupyter.widget-view+json": {
       "model_id": "f69679d118a24f55b9b0b2b2bcf9c411",
       "version_major": 2,
       "version_minor": 0
      },
      "text/plain": [
       "  0%|          | 0/10 [00:00<?, ?it/s]"
      ]
     },
     "metadata": {},
     "output_type": "display_data"
    },
    {
     "data": {
      "application/vnd.jupyter.widget-view+json": {
       "model_id": "a1828fb63b5747ec98d13d099ba08217",
       "version_major": 2,
       "version_minor": 0
      },
      "text/plain": [
       "  0%|          | 0/4972 [00:00<?, ?it/s]"
      ]
     },
     "metadata": {},
     "output_type": "display_data"
    },
    {
     "data": {
      "application/vnd.jupyter.widget-view+json": {
       "model_id": "da76a833dadd41e9a6f5ae4d2c5c4a26",
       "version_major": 2,
       "version_minor": 0
      },
      "text/plain": [
       "  0%|          | 0/4972 [00:00<?, ?it/s]"
      ]
     },
     "metadata": {},
     "output_type": "display_data"
    },
    {
     "data": {
      "application/vnd.jupyter.widget-view+json": {
       "model_id": "f65244b9d7c44f32af721c8dbab3fafb",
       "version_major": 2,
       "version_minor": 0
      },
      "text/plain": [
       "  0%|          | 0/10 [00:00<?, ?it/s]"
      ]
     },
     "metadata": {},
     "output_type": "display_data"
    }
   ],
   "source": [
    "for e in tqdm(range(n_epochs + 1)):\n",
    "    step_epoch(e, model, train_dl, val_dl, optimizer, scheduler)\n",
    "\n",
    "    if e % 2 == 0:\n",
    "        train_dl, val_dl = update_dataloaders(ds[\"val\"], ds[\"test\"], model, padding_collator)"
   ]
  },
  {
   "cell_type": "code",
   "execution_count": null,
   "metadata": {},
   "outputs": [],
   "source": []
  }
 ],
 "metadata": {
  "kernelspec": {
   "display_name": "bio",
   "language": "python",
   "name": "python3"
  },
  "language_info": {
   "codemirror_mode": {
    "name": "ipython",
    "version": 3
   },
   "file_extension": ".py",
   "mimetype": "text/x-python",
   "name": "python",
   "nbconvert_exporter": "python",
   "pygments_lexer": "ipython3",
   "version": "3.10.12"
  }
 },
 "nbformat": 4,
 "nbformat_minor": 2
}
