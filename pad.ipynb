{
 "cells": [
  {
   "cell_type": "code",
   "execution_count": 1,
   "metadata": {},
   "outputs": [
    {
     "name": "stderr",
     "output_type": "stream",
     "text": [
      "Failed to detect the name of this notebook, you can set it manually with the WANDB_NOTEBOOK_NAME environment variable to enable code saving.\n",
      "\u001b[34m\u001b[1mwandb\u001b[0m: Currently logged in as: \u001b[33mrahul-e-dev\u001b[0m. Use \u001b[1m`wandb login --relogin`\u001b[0m to force relogin\n"
     ]
    },
    {
     "data": {
      "text/html": [
       "wandb version 0.16.4 is available!  To upgrade, please run:\n",
       " $ pip install wandb --upgrade"
      ],
      "text/plain": [
       "<IPython.core.display.HTML object>"
      ]
     },
     "metadata": {},
     "output_type": "display_data"
    },
    {
     "data": {
      "text/html": [
       "Tracking run with wandb version 0.16.3"
      ],
      "text/plain": [
       "<IPython.core.display.HTML object>"
      ]
     },
     "metadata": {},
     "output_type": "display_data"
    },
    {
     "data": {
      "text/html": [
       "Run data is saved locally in <code>c:\\Users\\rahul\\Documents\\biomed\\delta_diff\\wandb\\run-20240311_151627-xm078s9o</code>"
      ],
      "text/plain": [
       "<IPython.core.display.HTML object>"
      ]
     },
     "metadata": {},
     "output_type": "display_data"
    },
    {
     "data": {
      "text/html": [
       "Syncing run <strong><a href='https://wandb.ai/rahul-e-dev/delta/runs/xm078s9o' target=\"_blank\">init_v6</a></strong> to <a href='https://wandb.ai/rahul-e-dev/delta' target=\"_blank\">Weights & Biases</a> (<a href='https://wandb.me/run' target=\"_blank\">docs</a>)<br/>"
      ],
      "text/plain": [
       "<IPython.core.display.HTML object>"
      ]
     },
     "metadata": {},
     "output_type": "display_data"
    },
    {
     "data": {
      "text/html": [
       " View project at <a href='https://wandb.ai/rahul-e-dev/delta' target=\"_blank\">https://wandb.ai/rahul-e-dev/delta</a>"
      ],
      "text/plain": [
       "<IPython.core.display.HTML object>"
      ]
     },
     "metadata": {},
     "output_type": "display_data"
    },
    {
     "data": {
      "text/html": [
       " View run at <a href='https://wandb.ai/rahul-e-dev/delta/runs/xm078s9o' target=\"_blank\">https://wandb.ai/rahul-e-dev/delta/runs/xm078s9o</a>"
      ],
      "text/plain": [
       "<IPython.core.display.HTML object>"
      ]
     },
     "metadata": {},
     "output_type": "display_data"
    },
    {
     "data": {
      "text/html": [
       "<button onClick=\"this.nextSibling.style.display='block';this.style.display='none';\">Display W&B run</button><iframe src='https://wandb.ai/rahul-e-dev/delta/runs/xm078s9o?jupyter=true' style='border:none;width:100%;height:420px;display:none;'></iframe>"
      ],
      "text/plain": [
       "<wandb.sdk.wandb_run.Run at 0x2426fce6770>"
      ]
     },
     "execution_count": 1,
     "metadata": {},
     "output_type": "execute_result"
    }
   ],
   "source": [
    "from functools import partial\n",
    "\n",
    "import torch\n",
    "\n",
    "from torch.optim import AdamW\n",
    "from torch.utils.data import DataLoader\n",
    "from transformers import (\n",
    "    AutoModel,\n",
    "    AutoTokenizer,\n",
    "    DataCollatorWithPadding,\n",
    "    get_constant_schedule_with_warmup,\n",
    "    get_cosine_schedule_with_warmup,\n",
    ")\n",
    "\n",
    "from data import PairDS, pair_collate, load_kasa_regression, standardize_df, tokenize\n",
    "from model import DeltaModel\n",
    "from utils import parallelize, standardize\n",
    "\n",
    "import wandb\n",
    "wandb.init(project=\"delta\",name=\"init_v6\")"
   ]
  },
  {
   "cell_type": "code",
   "execution_count": 2,
   "metadata": {},
   "outputs": [],
   "source": [
    "def train_step(model, batch, optimizer, scheduler):\n",
    "    optimizer.zero_grad()\n",
    "    model.train()\n",
    "    device = next(model.parameters()).device\n",
    "\n",
    "    batch = {k: v.to(device) for k,v in batch.items()}\n",
    "    losses = model(batch)\n",
    "    losses['loss'].backward()\n",
    "\n",
    "    torch.nn.utils.clip_grad_norm_(model.parameters(), 1.0)\n",
    "    optimizer.step()\n",
    "    scheduler.step()\n",
    "    return losses\n",
    "\n",
    "@torch.no_grad()\n",
    "def val_step(model, batch):\n",
    "    model.eval()\n",
    "    device = next(model.parameters()).device\n",
    "    batch = {k: v.to(device) for k,v in batch.items()}\n",
    "    losses = model(batch)\n",
    "    return losses"
   ]
  },
  {
   "cell_type": "code",
   "execution_count": 3,
   "metadata": {},
   "outputs": [
    {
     "name": "stderr",
     "output_type": "stream",
     "text": [
      "c:\\Users\\rahul\\mambaforge\\envs\\bio\\lib\\site-packages\\astartes\\samplers\\extrapolation\\scaffold.py:44: NoMatchingScaffold: No matching scaffold was found for the 3 molecules corresponding to indices {23234, 36709, 11879}\n",
      "  warnings.warn(\n"
     ]
    },
    {
     "data": {
      "application/vnd.jupyter.widget-view+json": {
       "model_id": "c047fe71e34a4feabd143f685c13971a",
       "version_major": 2,
       "version_minor": 0
      },
      "text/plain": [
       "Map (num_proc=8):   0%|          | 0/39777 [00:00<?, ? examples/s]"
      ]
     },
     "metadata": {},
     "output_type": "display_data"
    },
    {
     "data": {
      "application/vnd.jupyter.widget-view+json": {
       "model_id": "07ec8e0ee5fd478ab595e76b59a81313",
       "version_major": 2,
       "version_minor": 0
      },
      "text/plain": [
       "Map (num_proc=8):   0%|          | 0/4972 [00:00<?, ? examples/s]"
      ]
     },
     "metadata": {},
     "output_type": "display_data"
    },
    {
     "data": {
      "application/vnd.jupyter.widget-view+json": {
       "model_id": "d03dc4928dfe47688dcf645bb1269a1a",
       "version_major": 2,
       "version_minor": 0
      },
      "text/plain": [
       "Map (num_proc=8):   0%|          | 0/4972 [00:00<?, ? examples/s]"
      ]
     },
     "metadata": {},
     "output_type": "display_data"
    }
   ],
   "source": [
    "ds = load_kasa_regression()\n",
    "tokenizer = AutoTokenizer.from_pretrained('DeepChem/ChemBERTa-77M-MTR')\n",
    "tok_func = partial(tokenize, tokenizer=tokenizer)\n",
    "ds = ds.map(tok_func, num_proc=8).remove_columns(['smiles'])\n",
    "\n",
    "tokenizer.pad_token = tokenizer.eos_token\n",
    "padding_collator = DataCollatorWithPadding(tokenizer)"
   ]
  },
  {
   "cell_type": "code",
   "execution_count": 4,
   "metadata": {},
   "outputs": [],
   "source": [
    "model = DeltaModel(AutoModel.from_pretrained('DeepChem/ChemBERTa-77M-MTR')).cuda()\n",
    "train_dl = DataLoader(\n",
    "    PairDS(ds['train']), \n",
    "    batch_size=128, \n",
    "    shuffle=True, \n",
    "    collate_fn=partial(pair_collate, base_collator=padding_collator),\n",
    "    # num_workers=4\n",
    ")\n",
    "\n",
    "val_dl = DataLoader(\n",
    "    PairDS(ds['val']), \n",
    "    batch_size=128, \n",
    "    shuffle=False, \n",
    "    collate_fn=partial(pair_collate, base_collator=padding_collator),\n",
    "    # num_workers=4\n",
    ")\n",
    "\n",
    "optimizer = AdamW(model.parameters(), lr=2e-4)\n",
    "n_epochs = 4\n",
    "n_steps = len(train_dl) * n_epochs\n",
    "scheduler = get_cosine_schedule_with_warmup(optimizer, n_steps*0.01, n_steps*(1-0.01))\n",
    "# scheduler = get_constant_schedule_with_warmup(optimizer, n_steps*0.01)\n",
    "\n",
    "wandb.watch(model, log='gradients', log_freq=10)"
   ]
  },
  {
   "cell_type": "code",
   "execution_count": 5,
   "metadata": {},
   "outputs": [],
   "source": [
    "from tqdm.auto import tqdm\n",
    "from collections import defaultdict\n",
    "\n",
    "# best_val, best_model = (-float('inf'), None)\n",
    "for e in tqdm(range(n_epochs+1)):\n",
    "    total_train_loss = 0.0\n",
    "    train_loss_accumulator = defaultdict(float)\n",
    "\n",
    "    for batch in tqdm(train_dl, total=len(train_dl)):\n",
    "        train_losses = train_step(model, batch, optimizer, scheduler)\n",
    "        for k,v in train_losses.items():\n",
    "            train_loss_accumulator[k] += v.item()\n",
    "\n",
    "    train_loss_accumulator = {\n",
    "        f'train/{k}': round(v/len(train_dl), 4) \n",
    "        for k,v in train_loss_accumulator.items()\n",
    "    }\n",
    "\n",
    "    wandb.log(dict(train_loss_accumulator) | {'train/epoch': e})\n",
    "\n",
    "    if e%4 == 0:\n",
    "        val_loss_accumulator = defaultdict(float)\n",
    "        for batch in val_dl:\n",
    "            val_losses = val_step(model, batch)\n",
    "            for k,v in train_losses.items():\n",
    "                val_loss_accumulator[k] += v.item()\n",
    "            \n",
    "        val_loss_accumulator = {\n",
    "            f'val/{k}': round(v/len(val_dl), 4) \n",
    "            for k,v in val_loss_accumulator.items()\n",
    "        }\n",
    "\n",
    "        wandb.log(dict(val_loss_accumulator) | {'val/epoch': e})"
   ]
  }
 ],
 "metadata": {
  "kernelspec": {
   "display_name": "bio",
   "language": "python",
   "name": "python3"
  },
  "language_info": {
   "codemirror_mode": {
    "name": "ipython",
    "version": 3
   },
   "file_extension": ".py",
   "mimetype": "text/x-python",
   "name": "python",
   "nbconvert_exporter": "python",
   "pygments_lexer": "ipython3",
   "version": "3.10.12"
  }
 },
 "nbformat": 4,
 "nbformat_minor": 2
}
