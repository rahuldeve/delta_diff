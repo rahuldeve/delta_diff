{
 "cells": [
  {
   "cell_type": "code",
   "execution_count": 1,
   "metadata": {},
   "outputs": [
    {
     "name": "stderr",
     "output_type": "stream",
     "text": [
      "Failed to detect the name of this notebook, you can set it manually with the WANDB_NOTEBOOK_NAME environment variable to enable code saving.\n",
      "\u001b[34m\u001b[1mwandb\u001b[0m: Currently logged in as: \u001b[33mrahul-e-dev\u001b[0m. Use \u001b[1m`wandb login --relogin`\u001b[0m to force relogin\n"
     ]
    },
    {
     "data": {
      "text/html": [
       "wandb version 0.16.4 is available!  To upgrade, please run:\n",
       " $ pip install wandb --upgrade"
      ],
      "text/plain": [
       "<IPython.core.display.HTML object>"
      ]
     },
     "metadata": {},
     "output_type": "display_data"
    },
    {
     "data": {
      "text/html": [
       "Tracking run with wandb version 0.16.3"
      ],
      "text/plain": [
       "<IPython.core.display.HTML object>"
      ]
     },
     "metadata": {},
     "output_type": "display_data"
    },
    {
     "data": {
      "text/html": [
       "Run data is saved locally in <code>c:\\Users\\rahul\\Documents\\biomed\\kasa_delta_reg\\wandb\\run-20240310_120121-ybo5gqjr</code>"
      ],
      "text/plain": [
       "<IPython.core.display.HTML object>"
      ]
     },
     "metadata": {},
     "output_type": "display_data"
    },
    {
     "data": {
      "text/html": [
       "Syncing run <strong><a href='https://wandb.ai/rahul-e-dev/delta/runs/ybo5gqjr' target=\"_blank\">init_v6</a></strong> to <a href='https://wandb.ai/rahul-e-dev/delta' target=\"_blank\">Weights & Biases</a> (<a href='https://wandb.me/run' target=\"_blank\">docs</a>)<br/>"
      ],
      "text/plain": [
       "<IPython.core.display.HTML object>"
      ]
     },
     "metadata": {},
     "output_type": "display_data"
    },
    {
     "data": {
      "text/html": [
       " View project at <a href='https://wandb.ai/rahul-e-dev/delta' target=\"_blank\">https://wandb.ai/rahul-e-dev/delta</a>"
      ],
      "text/plain": [
       "<IPython.core.display.HTML object>"
      ]
     },
     "metadata": {},
     "output_type": "display_data"
    },
    {
     "data": {
      "text/html": [
       " View run at <a href='https://wandb.ai/rahul-e-dev/delta/runs/ybo5gqjr' target=\"_blank\">https://wandb.ai/rahul-e-dev/delta/runs/ybo5gqjr</a>"
      ],
      "text/plain": [
       "<IPython.core.display.HTML object>"
      ]
     },
     "metadata": {},
     "output_type": "display_data"
    },
    {
     "data": {
      "text/html": [
       "<button onClick=\"this.nextSibling.style.display='block';this.style.display='none';\">Display W&B run</button><iframe src='https://wandb.ai/rahul-e-dev/delta/runs/ybo5gqjr?jupyter=true' style='border:none;width:100%;height:420px;display:none;'></iframe>"
      ],
      "text/plain": [
       "<wandb.sdk.wandb_run.Run at 0x218252dbbe0>"
      ]
     },
     "execution_count": 1,
     "metadata": {},
     "output_type": "execute_result"
    }
   ],
   "source": [
    "from functools import partial\n",
    "\n",
    "import datasets as hds\n",
    "import pandas as pd\n",
    "import rdkit.Chem as Chem\n",
    "import torch\n",
    "from astartes import train_val_test_split\n",
    "from rdkit.Chem.Descriptors import CalcMolDescriptors\n",
    "from rdkit.rdBase import BlockLogs\n",
    "from torch.optim import AdamW\n",
    "from torch.utils.data import DataLoader\n",
    "from transformers import (\n",
    "    AutoModel,\n",
    "    AutoTokenizer,\n",
    "    DataCollatorWithPadding,\n",
    "    get_constant_schedule_with_warmup,\n",
    "    get_cosine_schedule_with_warmup,\n",
    ")\n",
    "\n",
    "from data import PairDS, pair_collate\n",
    "from model import DeltaModel\n",
    "from utils import parallelize, standardize\n",
    "\n",
    "import wandb\n",
    "wandb.init(project=\"delta\",name=\"init_v6\")"
   ]
  },
  {
   "cell_type": "code",
   "execution_count": 2,
   "metadata": {},
   "outputs": [],
   "source": [
    "@parallelize(8)\n",
    "def standardize_df(df):\n",
    "    df[\"inchi\"] = df[\"smiles\"].map(standardize)\n",
    "    return df"
   ]
  },
  {
   "cell_type": "code",
   "execution_count": 3,
   "metadata": {},
   "outputs": [],
   "source": [
    "def load_kasa_regression():\n",
    "    df = pd.read_csv(\"./KasA_SMM_regression.csv\")\n",
    "    df = df[[\"SMILES\", \"Average Average Z Score\"]]\n",
    "    df = df.rename({\"SMILES\": \"smiles\", \"Average Average Z Score\": \"score\"}, axis=1)\n",
    "\n",
    "    # df = standardize_df(df)\n",
    "\n",
    "    splits = train_val_test_split(\n",
    "        X=df[\"smiles\"].to_numpy(),\n",
    "        y=df[\"score\"].to_numpy(),\n",
    "        sampler=\"scaffold\",\n",
    "        random_state=42,\n",
    "        return_indices=True,\n",
    "    )\n",
    "\n",
    "    train_ids, val_ids, test_ids = splits[-3], splits[-2], splits[-1]\n",
    "    df_train = df.iloc[train_ids].reset_index(drop=True)\n",
    "    df_val = df.iloc[val_ids].reset_index(drop=True)\n",
    "    df_test = df.iloc[test_ids].reset_index(drop=True)\n",
    "\n",
    "    return hds.DatasetDict(\n",
    "        {\n",
    "            \"train\": hds.Dataset.from_pandas(df_train),\n",
    "            \"val\": hds.Dataset.from_pandas(df_val),\n",
    "            \"test\": hds.Dataset.from_pandas(df_test),\n",
    "        }\n",
    "    )"
   ]
  },
  {
   "cell_type": "code",
   "execution_count": 4,
   "metadata": {},
   "outputs": [],
   "source": [
    "def tokenize(entry, tokenizer):\n",
    "    entry = dict(entry)\n",
    "    smiles = entry.pop(\"smiles\")\n",
    "    encoded = tokenizer(\n",
    "        smiles,\n",
    "        truncation=False,\n",
    "        return_attention_mask=True,\n",
    "        return_special_tokens_mask=True,\n",
    "    )\n",
    "\n",
    "    return encoded"
   ]
  },
  {
   "cell_type": "code",
   "execution_count": 5,
   "metadata": {},
   "outputs": [],
   "source": [
    "def train_step(model, batch, optimizer, scheduler):\n",
    "    optimizer.zero_grad()\n",
    "    model.train()\n",
    "    device = next(model.parameters()).device\n",
    "\n",
    "    batch = {k: v.to(device) for k,v in batch.items()}\n",
    "    losses = model(batch)\n",
    "    losses['loss'].backward()\n",
    "\n",
    "    torch.nn.utils.clip_grad_norm_(model.parameters(), 2.0)\n",
    "    optimizer.step()\n",
    "    scheduler.step()\n",
    "    return losses\n",
    "\n",
    "@torch.no_grad()\n",
    "def val_step(model, batch):\n",
    "    model.eval()\n",
    "    device = next(model.parameters()).device\n",
    "    batch = {k: v.to(device) for k,v in batch.items()}\n",
    "    losses = model(batch)\n",
    "    return losses"
   ]
  },
  {
   "cell_type": "code",
   "execution_count": 6,
   "metadata": {},
   "outputs": [
    {
     "name": "stderr",
     "output_type": "stream",
     "text": [
      "c:\\Users\\rahul\\mambaforge\\envs\\bio\\lib\\site-packages\\astartes\\samplers\\extrapolation\\scaffold.py:44: NoMatchingScaffold: No matching scaffold was found for the 3 molecules corresponding to indices {23234, 36709, 11879}\n",
      "  warnings.warn(\n"
     ]
    },
    {
     "data": {
      "application/vnd.jupyter.widget-view+json": {
       "model_id": "df5b86eb7418416ea3eaaec05d25eac6",
       "version_major": 2,
       "version_minor": 0
      },
      "text/plain": [
       "Map (num_proc=8):   0%|          | 0/39777 [00:00<?, ? examples/s]"
      ]
     },
     "metadata": {},
     "output_type": "display_data"
    },
    {
     "data": {
      "application/vnd.jupyter.widget-view+json": {
       "model_id": "8980809e6fe34edcb7500ef6ecb73e89",
       "version_major": 2,
       "version_minor": 0
      },
      "text/plain": [
       "Map (num_proc=8):   0%|          | 0/4972 [00:00<?, ? examples/s]"
      ]
     },
     "metadata": {},
     "output_type": "display_data"
    },
    {
     "data": {
      "application/vnd.jupyter.widget-view+json": {
       "model_id": "82c3e0138bbf48ada62e18da54edbdef",
       "version_major": 2,
       "version_minor": 0
      },
      "text/plain": [
       "Map (num_proc=8):   0%|          | 0/4972 [00:00<?, ? examples/s]"
      ]
     },
     "metadata": {},
     "output_type": "display_data"
    }
   ],
   "source": [
    "ds = load_kasa_regression()\n",
    "tokenizer = AutoTokenizer.from_pretrained('DeepChem/ChemBERTa-77M-MTR')\n",
    "tok_func = partial(tokenize, tokenizer=tokenizer)\n",
    "ds = ds.map(tok_func, num_proc=8).remove_columns(['smiles'])\n",
    "\n",
    "tokenizer.pad_token = tokenizer.eos_token\n",
    "padding_collator = DataCollatorWithPadding(tokenizer)"
   ]
  },
  {
   "cell_type": "code",
   "execution_count": 7,
   "metadata": {},
   "outputs": [
    {
     "name": "stderr",
     "output_type": "stream",
     "text": [
      "Some weights of the model checkpoint at DeepChem/ChemBERTa-77M-MTR were not used when initializing RobertaModel: ['regression.out_proj.weight', 'norm_mean', 'regression.out_proj.bias', 'regression.dense.weight', 'regression.dense.bias', 'norm_std']\n",
      "- This IS expected if you are initializing RobertaModel from the checkpoint of a model trained on another task or with another architecture (e.g. initializing a BertForSequenceClassification model from a BertForPreTraining model).\n",
      "- This IS NOT expected if you are initializing RobertaModel from the checkpoint of a model that you expect to be exactly identical (initializing a BertForSequenceClassification model from a BertForSequenceClassification model).\n",
      "Some weights of RobertaModel were not initialized from the model checkpoint at DeepChem/ChemBERTa-77M-MTR and are newly initialized: ['roberta.pooler.dense.bias', 'roberta.pooler.dense.weight']\n",
      "You should probably TRAIN this model on a down-stream task to be able to use it for predictions and inference.\n"
     ]
    }
   ],
   "source": [
    "model = DeltaModel(AutoModel.from_pretrained('DeepChem/ChemBERTa-77M-MTR')).cuda()\n",
    "train_dl = DataLoader(\n",
    "    PairDS(ds['train']), \n",
    "    batch_size=1024, \n",
    "    shuffle=True, \n",
    "    collate_fn=partial(pair_collate, base_collator=padding_collator)\n",
    ")\n",
    "\n",
    "val_dl = DataLoader(\n",
    "    PairDS(ds['val']), \n",
    "    batch_size=1024, \n",
    "    shuffle=False, \n",
    "    collate_fn=partial(pair_collate, base_collator=padding_collator)\n",
    ")\n",
    "\n",
    "optimizer = AdamW(model.parameters(), lr=2e-4)\n",
    "n_epochs = 20\n",
    "n_steps = len(train_dl) * n_epochs\n",
    "scheduler = get_cosine_schedule_with_warmup(optimizer, n_steps*0.01, n_steps*(1-0.01))\n",
    "# scheduler = get_constant_schedule_with_warmup(optimizer, n_steps*0.01)"
   ]
  },
  {
   "cell_type": "code",
   "execution_count": 9,
   "metadata": {},
   "outputs": [
    {
     "data": {
      "application/vnd.jupyter.widget-view+json": {
       "model_id": "0d865d96f3ed4892a4149765cd8f649d",
       "version_major": 2,
       "version_minor": 0
      },
      "text/plain": [
       "  0%|          | 0/622 [00:00<?, ?it/s]"
      ]
     },
     "metadata": {},
     "output_type": "display_data"
    },
    {
     "data": {
      "application/vnd.jupyter.widget-view+json": {
       "model_id": "8738bd0fc77c4b669696742e6390f615",
       "version_major": 2,
       "version_minor": 0
      },
      "text/plain": [
       "  0%|          | 0/78 [00:00<?, ?it/s]"
      ]
     },
     "metadata": {},
     "output_type": "display_data"
    },
    {
     "data": {
      "application/vnd.jupyter.widget-view+json": {
       "model_id": "3bb27881fe4f4f7da1a0bd906d90c974",
       "version_major": 2,
       "version_minor": 0
      },
      "text/plain": [
       "  0%|          | 0/622 [00:00<?, ?it/s]"
      ]
     },
     "metadata": {},
     "output_type": "display_data"
    }
   ],
   "source": [
    "from tqdm.auto import tqdm\n",
    "from collections import defaultdict\n",
    "\n",
    "# best_val, best_model = (-float('inf'), None)\n",
    "for e in range(n_epochs+1):\n",
    "    total_train_loss = 0.0\n",
    "    train_loss_accumulator = defaultdict(float)\n",
    "\n",
    "    for batch in tqdm(train_dl, total=len(train_dl)):\n",
    "        train_losses = train_step(model, batch, optimizer, scheduler)\n",
    "        for k,v in train_losses.items():\n",
    "            train_loss_accumulator[k] += v.item()\n",
    "\n",
    "    train_loss_accumulator = {\n",
    "        f'train/{k}': round(v/len(train_dl), 4) \n",
    "        for k,v in train_loss_accumulator.items()\n",
    "    }\n",
    "\n",
    "    wandb.log(dict(train_loss_accumulator) | {'train/epoch': e})\n",
    "\n",
    "    if e%2 == 0:\n",
    "        val_loss_accumulator = defaultdict(float)\n",
    "        for batch in tqdm(val_dl, total=len(val_dl)):\n",
    "            val_losses = val_step(model, batch)\n",
    "            for k,v in train_losses.items():\n",
    "                val_loss_accumulator[k] += v.item()\n",
    "            \n",
    "        val_loss_accumulator = {\n",
    "            f'val/{k}': round(v/len(val_dl), 4) \n",
    "            for k,v in val_loss_accumulator.items()\n",
    "        }\n",
    "\n",
    "        wandb.log(dict(val_loss_accumulator) | {'val/epoch': e})"
   ]
  },
  {
   "cell_type": "code",
   "execution_count": null,
   "metadata": {},
   "outputs": [],
   "source": []
  }
 ],
 "metadata": {
  "kernelspec": {
   "display_name": "bio",
   "language": "python",
   "name": "python3"
  },
  "language_info": {
   "codemirror_mode": {
    "name": "ipython",
    "version": 3
   },
   "file_extension": ".py",
   "mimetype": "text/x-python",
   "name": "python",
   "nbconvert_exporter": "python",
   "pygments_lexer": "ipython3",
   "version": "3.10.12"
  }
 },
 "nbformat": 4,
 "nbformat_minor": 2
}
